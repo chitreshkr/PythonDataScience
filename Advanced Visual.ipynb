{
 "cells": [
  {
   "cell_type": "code",
   "execution_count": 1,
   "metadata": {
    "collapsed": true
   },
   "outputs": [],
   "source": [
    "import pandas as pd\n",
    "import os"
   ]
  },
  {
   "cell_type": "code",
   "execution_count": 2,
   "metadata": {
    "collapsed": false
   },
   "outputs": [
    {
     "data": {
      "text/plain": [
       "'C:\\\\Users\\\\Chitresh\\\\Documents'"
      ]
     },
     "execution_count": 2,
     "metadata": {},
     "output_type": "execute_result"
    }
   ],
   "source": [
    "os.getcwd()"
   ]
  },
  {
   "cell_type": "code",
   "execution_count": 3,
   "metadata": {
    "collapsed": true
   },
   "outputs": [],
   "source": [
    "os.chdir(\"C:\\\\Users\\\\Chitresh\\\\Desktop\\\\Python DataScience A-Z\")"
   ]
  },
  {
   "cell_type": "code",
   "execution_count": 4,
   "metadata": {
    "collapsed": false
   },
   "outputs": [
    {
     "data": {
      "text/plain": [
       "'C:\\\\Users\\\\Chitresh\\\\Desktop\\\\Python DataScience A-Z'"
      ]
     },
     "execution_count": 4,
     "metadata": {},
     "output_type": "execute_result"
    }
   ],
   "source": [
    "os.getcwd()"
   ]
  },
  {
   "cell_type": "code",
   "execution_count": 5,
   "metadata": {
    "collapsed": true
   },
   "outputs": [],
   "source": [
    "movies = pd.read_csv(\"Movie-Ratings.csv\")"
   ]
  },
  {
   "cell_type": "code",
   "execution_count": 6,
   "metadata": {
    "collapsed": false
   },
   "outputs": [
    {
     "data": {
      "text/html": [
       "<div>\n",
       "<table border=\"1\" class=\"dataframe\">\n",
       "  <thead>\n",
       "    <tr style=\"text-align: right;\">\n",
       "      <th></th>\n",
       "      <th>Film</th>\n",
       "      <th>Genre</th>\n",
       "      <th>Rotten Tomatoes Ratings %</th>\n",
       "      <th>Audience Ratings %</th>\n",
       "      <th>Budget (million $)</th>\n",
       "      <th>Year of release</th>\n",
       "    </tr>\n",
       "  </thead>\n",
       "  <tbody>\n",
       "    <tr>\n",
       "      <th>0</th>\n",
       "      <td>(500) Days of Summer</td>\n",
       "      <td>Comedy</td>\n",
       "      <td>87</td>\n",
       "      <td>81</td>\n",
       "      <td>8</td>\n",
       "      <td>2009</td>\n",
       "    </tr>\n",
       "    <tr>\n",
       "      <th>1</th>\n",
       "      <td>10,000 B.C.</td>\n",
       "      <td>Adventure</td>\n",
       "      <td>9</td>\n",
       "      <td>44</td>\n",
       "      <td>105</td>\n",
       "      <td>2008</td>\n",
       "    </tr>\n",
       "    <tr>\n",
       "      <th>2</th>\n",
       "      <td>12 Rounds</td>\n",
       "      <td>Action</td>\n",
       "      <td>30</td>\n",
       "      <td>52</td>\n",
       "      <td>20</td>\n",
       "      <td>2009</td>\n",
       "    </tr>\n",
       "    <tr>\n",
       "      <th>3</th>\n",
       "      <td>127 Hours</td>\n",
       "      <td>Adventure</td>\n",
       "      <td>93</td>\n",
       "      <td>84</td>\n",
       "      <td>18</td>\n",
       "      <td>2010</td>\n",
       "    </tr>\n",
       "    <tr>\n",
       "      <th>4</th>\n",
       "      <td>17 Again</td>\n",
       "      <td>Comedy</td>\n",
       "      <td>55</td>\n",
       "      <td>70</td>\n",
       "      <td>20</td>\n",
       "      <td>2009</td>\n",
       "    </tr>\n",
       "  </tbody>\n",
       "</table>\n",
       "</div>"
      ],
      "text/plain": [
       "                    Film      Genre  Rotten Tomatoes Ratings %  \\\n",
       "0  (500) Days of Summer      Comedy                         87   \n",
       "1            10,000 B.C.  Adventure                          9   \n",
       "2             12 Rounds      Action                         30   \n",
       "3              127 Hours  Adventure                         93   \n",
       "4              17 Again      Comedy                         55   \n",
       "\n",
       "   Audience Ratings %  Budget (million $)  Year of release  \n",
       "0                  81                   8             2009  \n",
       "1                  44                 105             2008  \n",
       "2                  52                  20             2009  \n",
       "3                  84                  18             2010  \n",
       "4                  70                  20             2009  "
      ]
     },
     "execution_count": 6,
     "metadata": {},
     "output_type": "execute_result"
    }
   ],
   "source": [
    "movies.head()"
   ]
  },
  {
   "cell_type": "code",
   "execution_count": 7,
   "metadata": {
    "collapsed": false
   },
   "outputs": [
    {
     "data": {
      "text/plain": [
       "Index(['Film', 'Genre', 'Rotten Tomatoes Ratings %', 'Audience Ratings %',\n",
       "       'Budget (million $)', 'Year of release'],\n",
       "      dtype='object')"
      ]
     },
     "execution_count": 7,
     "metadata": {},
     "output_type": "execute_result"
    }
   ],
   "source": [
    "movies.columns"
   ]
  },
  {
   "cell_type": "code",
   "execution_count": 8,
   "metadata": {
    "collapsed": true
   },
   "outputs": [],
   "source": [
    "movies.columns = [\"Film\",\"Genre\",\"Critic\",\"Audience\",\"Budget\",\"ReleaseYear\"]"
   ]
  },
  {
   "cell_type": "code",
   "execution_count": 9,
   "metadata": {
    "collapsed": false
   },
   "outputs": [
    {
     "data": {
      "text/html": [
       "<div>\n",
       "<table border=\"1\" class=\"dataframe\">\n",
       "  <thead>\n",
       "    <tr style=\"text-align: right;\">\n",
       "      <th></th>\n",
       "      <th>Film</th>\n",
       "      <th>Genre</th>\n",
       "      <th>Critic</th>\n",
       "      <th>Audience</th>\n",
       "      <th>Budget</th>\n",
       "      <th>ReleaseYear</th>\n",
       "    </tr>\n",
       "  </thead>\n",
       "  <tbody>\n",
       "    <tr>\n",
       "      <th>0</th>\n",
       "      <td>(500) Days of Summer</td>\n",
       "      <td>Comedy</td>\n",
       "      <td>87</td>\n",
       "      <td>81</td>\n",
       "      <td>8</td>\n",
       "      <td>2009</td>\n",
       "    </tr>\n",
       "    <tr>\n",
       "      <th>1</th>\n",
       "      <td>10,000 B.C.</td>\n",
       "      <td>Adventure</td>\n",
       "      <td>9</td>\n",
       "      <td>44</td>\n",
       "      <td>105</td>\n",
       "      <td>2008</td>\n",
       "    </tr>\n",
       "    <tr>\n",
       "      <th>2</th>\n",
       "      <td>12 Rounds</td>\n",
       "      <td>Action</td>\n",
       "      <td>30</td>\n",
       "      <td>52</td>\n",
       "      <td>20</td>\n",
       "      <td>2009</td>\n",
       "    </tr>\n",
       "    <tr>\n",
       "      <th>3</th>\n",
       "      <td>127 Hours</td>\n",
       "      <td>Adventure</td>\n",
       "      <td>93</td>\n",
       "      <td>84</td>\n",
       "      <td>18</td>\n",
       "      <td>2010</td>\n",
       "    </tr>\n",
       "    <tr>\n",
       "      <th>4</th>\n",
       "      <td>17 Again</td>\n",
       "      <td>Comedy</td>\n",
       "      <td>55</td>\n",
       "      <td>70</td>\n",
       "      <td>20</td>\n",
       "      <td>2009</td>\n",
       "    </tr>\n",
       "    <tr>\n",
       "      <th>5</th>\n",
       "      <td>2012</td>\n",
       "      <td>Action</td>\n",
       "      <td>39</td>\n",
       "      <td>63</td>\n",
       "      <td>200</td>\n",
       "      <td>2009</td>\n",
       "    </tr>\n",
       "    <tr>\n",
       "      <th>6</th>\n",
       "      <td>27 Dresses</td>\n",
       "      <td>Comedy</td>\n",
       "      <td>40</td>\n",
       "      <td>71</td>\n",
       "      <td>30</td>\n",
       "      <td>2008</td>\n",
       "    </tr>\n",
       "    <tr>\n",
       "      <th>7</th>\n",
       "      <td>30 Days of Night</td>\n",
       "      <td>Horror</td>\n",
       "      <td>50</td>\n",
       "      <td>57</td>\n",
       "      <td>32</td>\n",
       "      <td>2007</td>\n",
       "    </tr>\n",
       "    <tr>\n",
       "      <th>8</th>\n",
       "      <td>30 Minutes or Less</td>\n",
       "      <td>Comedy</td>\n",
       "      <td>43</td>\n",
       "      <td>48</td>\n",
       "      <td>28</td>\n",
       "      <td>2011</td>\n",
       "    </tr>\n",
       "    <tr>\n",
       "      <th>9</th>\n",
       "      <td>50/50</td>\n",
       "      <td>Comedy</td>\n",
       "      <td>93</td>\n",
       "      <td>93</td>\n",
       "      <td>8</td>\n",
       "      <td>2011</td>\n",
       "    </tr>\n",
       "    <tr>\n",
       "      <th>10</th>\n",
       "      <td>88 Minutes</td>\n",
       "      <td>Drama</td>\n",
       "      <td>5</td>\n",
       "      <td>51</td>\n",
       "      <td>30</td>\n",
       "      <td>2007</td>\n",
       "    </tr>\n",
       "    <tr>\n",
       "      <th>11</th>\n",
       "      <td>A Dangerous Method</td>\n",
       "      <td>Drama</td>\n",
       "      <td>79</td>\n",
       "      <td>89</td>\n",
       "      <td>20</td>\n",
       "      <td>2011</td>\n",
       "    </tr>\n",
       "    <tr>\n",
       "      <th>12</th>\n",
       "      <td>A Nightmare on Elm Street</td>\n",
       "      <td>Horror</td>\n",
       "      <td>13</td>\n",
       "      <td>40</td>\n",
       "      <td>35</td>\n",
       "      <td>2010</td>\n",
       "    </tr>\n",
       "    <tr>\n",
       "      <th>13</th>\n",
       "      <td>A Serious Man</td>\n",
       "      <td>Drama</td>\n",
       "      <td>89</td>\n",
       "      <td>64</td>\n",
       "      <td>7</td>\n",
       "      <td>2009</td>\n",
       "    </tr>\n",
       "    <tr>\n",
       "      <th>14</th>\n",
       "      <td>A Very Harold and Kumar Christmas</td>\n",
       "      <td>Comedy</td>\n",
       "      <td>72</td>\n",
       "      <td>71</td>\n",
       "      <td>19</td>\n",
       "      <td>2011</td>\n",
       "    </tr>\n",
       "    <tr>\n",
       "      <th>15</th>\n",
       "      <td>Abduction</td>\n",
       "      <td>Action</td>\n",
       "      <td>4</td>\n",
       "      <td>46</td>\n",
       "      <td>35</td>\n",
       "      <td>2011</td>\n",
       "    </tr>\n",
       "    <tr>\n",
       "      <th>16</th>\n",
       "      <td>Across the Universe</td>\n",
       "      <td>Romance</td>\n",
       "      <td>54</td>\n",
       "      <td>84</td>\n",
       "      <td>45</td>\n",
       "      <td>2007</td>\n",
       "    </tr>\n",
       "    <tr>\n",
       "      <th>17</th>\n",
       "      <td>Adventureland</td>\n",
       "      <td>Comedy</td>\n",
       "      <td>89</td>\n",
       "      <td>56</td>\n",
       "      <td>10</td>\n",
       "      <td>2009</td>\n",
       "    </tr>\n",
       "    <tr>\n",
       "      <th>18</th>\n",
       "      <td>Albert Nobbs</td>\n",
       "      <td>Drama</td>\n",
       "      <td>53</td>\n",
       "      <td>43</td>\n",
       "      <td>8</td>\n",
       "      <td>2011</td>\n",
       "    </tr>\n",
       "    <tr>\n",
       "      <th>19</th>\n",
       "      <td>Alice in Wonderland</td>\n",
       "      <td>Adventure</td>\n",
       "      <td>52</td>\n",
       "      <td>72</td>\n",
       "      <td>200</td>\n",
       "      <td>2010</td>\n",
       "    </tr>\n",
       "    <tr>\n",
       "      <th>20</th>\n",
       "      <td>Alien vs. Predator -- Requiem</td>\n",
       "      <td>Horror</td>\n",
       "      <td>14</td>\n",
       "      <td>37</td>\n",
       "      <td>40</td>\n",
       "      <td>2007</td>\n",
       "    </tr>\n",
       "    <tr>\n",
       "      <th>21</th>\n",
       "      <td>Aliens in the Attic</td>\n",
       "      <td>Adventure</td>\n",
       "      <td>30</td>\n",
       "      <td>46</td>\n",
       "      <td>45</td>\n",
       "      <td>2009</td>\n",
       "    </tr>\n",
       "    <tr>\n",
       "      <th>22</th>\n",
       "      <td>All About Steve</td>\n",
       "      <td>Comedy</td>\n",
       "      <td>6</td>\n",
       "      <td>35</td>\n",
       "      <td>15</td>\n",
       "      <td>2009</td>\n",
       "    </tr>\n",
       "    <tr>\n",
       "      <th>23</th>\n",
       "      <td>All Good Things</td>\n",
       "      <td>Drama</td>\n",
       "      <td>33</td>\n",
       "      <td>64</td>\n",
       "      <td>20</td>\n",
       "      <td>2010</td>\n",
       "    </tr>\n",
       "    <tr>\n",
       "      <th>24</th>\n",
       "      <td>Amelia</td>\n",
       "      <td>Adventure</td>\n",
       "      <td>21</td>\n",
       "      <td>35</td>\n",
       "      <td>40</td>\n",
       "      <td>2009</td>\n",
       "    </tr>\n",
       "    <tr>\n",
       "      <th>25</th>\n",
       "      <td>American Gangster</td>\n",
       "      <td>Thriller</td>\n",
       "      <td>79</td>\n",
       "      <td>87</td>\n",
       "      <td>100</td>\n",
       "      <td>2007</td>\n",
       "    </tr>\n",
       "    <tr>\n",
       "      <th>26</th>\n",
       "      <td>An Education</td>\n",
       "      <td>Drama</td>\n",
       "      <td>94</td>\n",
       "      <td>78</td>\n",
       "      <td>8</td>\n",
       "      <td>2009</td>\n",
       "    </tr>\n",
       "    <tr>\n",
       "      <th>27</th>\n",
       "      <td>Anonymous</td>\n",
       "      <td>Drama</td>\n",
       "      <td>46</td>\n",
       "      <td>66</td>\n",
       "      <td>30</td>\n",
       "      <td>2011</td>\n",
       "    </tr>\n",
       "    <tr>\n",
       "      <th>28</th>\n",
       "      <td>Apollo 18</td>\n",
       "      <td>Horror</td>\n",
       "      <td>23</td>\n",
       "      <td>31</td>\n",
       "      <td>5</td>\n",
       "      <td>2011</td>\n",
       "    </tr>\n",
       "    <tr>\n",
       "      <th>29</th>\n",
       "      <td>Appaloosa</td>\n",
       "      <td>Action</td>\n",
       "      <td>77</td>\n",
       "      <td>55</td>\n",
       "      <td>20</td>\n",
       "      <td>2008</td>\n",
       "    </tr>\n",
       "    <tr>\n",
       "      <th>...</th>\n",
       "      <td>...</td>\n",
       "      <td>...</td>\n",
       "      <td>...</td>\n",
       "      <td>...</td>\n",
       "      <td>...</td>\n",
       "      <td>...</td>\n",
       "    </tr>\n",
       "    <tr>\n",
       "      <th>529</th>\n",
       "      <td>War Horse</td>\n",
       "      <td>Drama</td>\n",
       "      <td>77</td>\n",
       "      <td>73</td>\n",
       "      <td>66</td>\n",
       "      <td>2011</td>\n",
       "    </tr>\n",
       "    <tr>\n",
       "      <th>530</th>\n",
       "      <td>Warrior</td>\n",
       "      <td>Action</td>\n",
       "      <td>83</td>\n",
       "      <td>93</td>\n",
       "      <td>25</td>\n",
       "      <td>2011</td>\n",
       "    </tr>\n",
       "    <tr>\n",
       "      <th>531</th>\n",
       "      <td>Watchmen</td>\n",
       "      <td>Action</td>\n",
       "      <td>64</td>\n",
       "      <td>68</td>\n",
       "      <td>130</td>\n",
       "      <td>2009</td>\n",
       "    </tr>\n",
       "    <tr>\n",
       "      <th>532</th>\n",
       "      <td>Water For Elephants</td>\n",
       "      <td>Drama</td>\n",
       "      <td>60</td>\n",
       "      <td>72</td>\n",
       "      <td>38</td>\n",
       "      <td>2011</td>\n",
       "    </tr>\n",
       "    <tr>\n",
       "      <th>533</th>\n",
       "      <td>We Bought a Zoo</td>\n",
       "      <td>Comedy</td>\n",
       "      <td>63</td>\n",
       "      <td>79</td>\n",
       "      <td>50</td>\n",
       "      <td>2011</td>\n",
       "    </tr>\n",
       "    <tr>\n",
       "      <th>534</th>\n",
       "      <td>We Own the Night</td>\n",
       "      <td>Drama</td>\n",
       "      <td>55</td>\n",
       "      <td>63</td>\n",
       "      <td>21</td>\n",
       "      <td>2007</td>\n",
       "    </tr>\n",
       "    <tr>\n",
       "      <th>535</th>\n",
       "      <td>Welcome Home, Roscoe Jenkins</td>\n",
       "      <td>Comedy</td>\n",
       "      <td>24</td>\n",
       "      <td>64</td>\n",
       "      <td>35</td>\n",
       "      <td>2008</td>\n",
       "    </tr>\n",
       "    <tr>\n",
       "      <th>536</th>\n",
       "      <td>What Happens in Vegas</td>\n",
       "      <td>Comedy</td>\n",
       "      <td>28</td>\n",
       "      <td>72</td>\n",
       "      <td>35</td>\n",
       "      <td>2008</td>\n",
       "    </tr>\n",
       "    <tr>\n",
       "      <th>537</th>\n",
       "      <td>What's Your Number</td>\n",
       "      <td>Comedy</td>\n",
       "      <td>24</td>\n",
       "      <td>50</td>\n",
       "      <td>20</td>\n",
       "      <td>2011</td>\n",
       "    </tr>\n",
       "    <tr>\n",
       "      <th>538</th>\n",
       "      <td>Whatever Works</td>\n",
       "      <td>Comedy</td>\n",
       "      <td>50</td>\n",
       "      <td>63</td>\n",
       "      <td>15</td>\n",
       "      <td>2009</td>\n",
       "    </tr>\n",
       "    <tr>\n",
       "      <th>539</th>\n",
       "      <td>When in Rome</td>\n",
       "      <td>Comedy</td>\n",
       "      <td>15</td>\n",
       "      <td>44</td>\n",
       "      <td>0</td>\n",
       "      <td>2010</td>\n",
       "    </tr>\n",
       "    <tr>\n",
       "      <th>540</th>\n",
       "      <td>Where the Wild Things Are</td>\n",
       "      <td>Adventure</td>\n",
       "      <td>73</td>\n",
       "      <td>59</td>\n",
       "      <td>100</td>\n",
       "      <td>2009</td>\n",
       "    </tr>\n",
       "    <tr>\n",
       "      <th>541</th>\n",
       "      <td>Whip It</td>\n",
       "      <td>Drama</td>\n",
       "      <td>84</td>\n",
       "      <td>73</td>\n",
       "      <td>15</td>\n",
       "      <td>2009</td>\n",
       "    </tr>\n",
       "    <tr>\n",
       "      <th>542</th>\n",
       "      <td>Whiteout</td>\n",
       "      <td>Action</td>\n",
       "      <td>7</td>\n",
       "      <td>28</td>\n",
       "      <td>35</td>\n",
       "      <td>2009</td>\n",
       "    </tr>\n",
       "    <tr>\n",
       "      <th>543</th>\n",
       "      <td>Why Did I Get Married Too?</td>\n",
       "      <td>Comedy</td>\n",
       "      <td>27</td>\n",
       "      <td>67</td>\n",
       "      <td>20</td>\n",
       "      <td>2010</td>\n",
       "    </tr>\n",
       "    <tr>\n",
       "      <th>544</th>\n",
       "      <td>Wild Hogs</td>\n",
       "      <td>Comedy</td>\n",
       "      <td>14</td>\n",
       "      <td>72</td>\n",
       "      <td>90</td>\n",
       "      <td>2007</td>\n",
       "    </tr>\n",
       "    <tr>\n",
       "      <th>545</th>\n",
       "      <td>Winter's Bone</td>\n",
       "      <td>Drama</td>\n",
       "      <td>94</td>\n",
       "      <td>73</td>\n",
       "      <td>2</td>\n",
       "      <td>2010</td>\n",
       "    </tr>\n",
       "    <tr>\n",
       "      <th>546</th>\n",
       "      <td>X-Men Origins: Wolverine</td>\n",
       "      <td>Action</td>\n",
       "      <td>37</td>\n",
       "      <td>72</td>\n",
       "      <td>150</td>\n",
       "      <td>2009</td>\n",
       "    </tr>\n",
       "    <tr>\n",
       "      <th>547</th>\n",
       "      <td>X-Men: First Class</td>\n",
       "      <td>Action</td>\n",
       "      <td>87</td>\n",
       "      <td>88</td>\n",
       "      <td>160</td>\n",
       "      <td>2011</td>\n",
       "    </tr>\n",
       "    <tr>\n",
       "      <th>548</th>\n",
       "      <td>Year One</td>\n",
       "      <td>Adventure</td>\n",
       "      <td>14</td>\n",
       "      <td>31</td>\n",
       "      <td>60</td>\n",
       "      <td>2009</td>\n",
       "    </tr>\n",
       "    <tr>\n",
       "      <th>549</th>\n",
       "      <td>Yes Man</td>\n",
       "      <td>Comedy</td>\n",
       "      <td>43</td>\n",
       "      <td>72</td>\n",
       "      <td>70</td>\n",
       "      <td>2008</td>\n",
       "    </tr>\n",
       "    <tr>\n",
       "      <th>550</th>\n",
       "      <td>Yogi Bear</td>\n",
       "      <td>Comedy</td>\n",
       "      <td>14</td>\n",
       "      <td>36</td>\n",
       "      <td>80</td>\n",
       "      <td>2010</td>\n",
       "    </tr>\n",
       "    <tr>\n",
       "      <th>551</th>\n",
       "      <td>You Again</td>\n",
       "      <td>Comedy</td>\n",
       "      <td>18</td>\n",
       "      <td>45</td>\n",
       "      <td>20</td>\n",
       "      <td>2010</td>\n",
       "    </tr>\n",
       "    <tr>\n",
       "      <th>552</th>\n",
       "      <td>You Don't Mess with the Zohan</td>\n",
       "      <td>Comedy</td>\n",
       "      <td>36</td>\n",
       "      <td>50</td>\n",
       "      <td>80</td>\n",
       "      <td>2008</td>\n",
       "    </tr>\n",
       "    <tr>\n",
       "      <th>553</th>\n",
       "      <td>You Will Meet a Tall Dark Stranger</td>\n",
       "      <td>Comedy</td>\n",
       "      <td>43</td>\n",
       "      <td>35</td>\n",
       "      <td>22</td>\n",
       "      <td>2010</td>\n",
       "    </tr>\n",
       "    <tr>\n",
       "      <th>554</th>\n",
       "      <td>Your Highness</td>\n",
       "      <td>Comedy</td>\n",
       "      <td>26</td>\n",
       "      <td>36</td>\n",
       "      <td>50</td>\n",
       "      <td>2011</td>\n",
       "    </tr>\n",
       "    <tr>\n",
       "      <th>555</th>\n",
       "      <td>Youth in Revolt</td>\n",
       "      <td>Comedy</td>\n",
       "      <td>68</td>\n",
       "      <td>52</td>\n",
       "      <td>18</td>\n",
       "      <td>2009</td>\n",
       "    </tr>\n",
       "    <tr>\n",
       "      <th>556</th>\n",
       "      <td>Zodiac</td>\n",
       "      <td>Thriller</td>\n",
       "      <td>89</td>\n",
       "      <td>73</td>\n",
       "      <td>65</td>\n",
       "      <td>2007</td>\n",
       "    </tr>\n",
       "    <tr>\n",
       "      <th>557</th>\n",
       "      <td>Zombieland</td>\n",
       "      <td>Action</td>\n",
       "      <td>90</td>\n",
       "      <td>87</td>\n",
       "      <td>24</td>\n",
       "      <td>2009</td>\n",
       "    </tr>\n",
       "    <tr>\n",
       "      <th>558</th>\n",
       "      <td>Zookeeper</td>\n",
       "      <td>Comedy</td>\n",
       "      <td>14</td>\n",
       "      <td>42</td>\n",
       "      <td>80</td>\n",
       "      <td>2011</td>\n",
       "    </tr>\n",
       "  </tbody>\n",
       "</table>\n",
       "<p>559 rows × 6 columns</p>\n",
       "</div>"
      ],
      "text/plain": [
       "                                   Film      Genre  Critic  Audience  Budget  \\\n",
       "0                 (500) Days of Summer      Comedy      87        81       8   \n",
       "1                           10,000 B.C.  Adventure       9        44     105   \n",
       "2                            12 Rounds      Action      30        52      20   \n",
       "3                             127 Hours  Adventure      93        84      18   \n",
       "4                             17 Again      Comedy      55        70      20   \n",
       "5                                  2012     Action      39        63     200   \n",
       "6                            27 Dresses     Comedy      40        71      30   \n",
       "7                      30 Days of Night     Horror      50        57      32   \n",
       "8                    30 Minutes or Less     Comedy      43        48      28   \n",
       "9                                 50/50     Comedy      93        93       8   \n",
       "10                           88 Minutes      Drama       5        51      30   \n",
       "11                   A Dangerous Method      Drama      79        89      20   \n",
       "12            A Nightmare on Elm Street     Horror      13        40      35   \n",
       "13                       A Serious Man       Drama      89        64       7   \n",
       "14    A Very Harold and Kumar Christmas     Comedy      72        71      19   \n",
       "15                            Abduction     Action       4        46      35   \n",
       "16                  Across the Universe    Romance      54        84      45   \n",
       "17                       Adventureland      Comedy      89        56      10   \n",
       "18                         Albert Nobbs      Drama      53        43       8   \n",
       "19                  Alice in Wonderland  Adventure      52        72     200   \n",
       "20        Alien vs. Predator -- Requiem     Horror      14        37      40   \n",
       "21                 Aliens in the Attic   Adventure      30        46      45   \n",
       "22                     All About Steve      Comedy       6        35      15   \n",
       "23                      All Good Things      Drama      33        64      20   \n",
       "24                              Amelia   Adventure      21        35      40   \n",
       "25                    American Gangster   Thriller      79        87     100   \n",
       "26                         An Education      Drama      94        78       8   \n",
       "27                            Anonymous      Drama      46        66      30   \n",
       "28                            Apollo 18     Horror      23        31       5   \n",
       "29                            Appaloosa     Action      77        55      20   \n",
       "..                                  ...        ...     ...       ...     ...   \n",
       "529                           War Horse      Drama      77        73      66   \n",
       "530                             Warrior     Action      83        93      25   \n",
       "531                           Watchmen      Action      64        68     130   \n",
       "532                 Water For Elephants      Drama      60        72      38   \n",
       "533                     We Bought a Zoo     Comedy      63        79      50   \n",
       "534                    We Own the Night      Drama      55        63      21   \n",
       "535        Welcome Home, Roscoe Jenkins     Comedy      24        64      35   \n",
       "536               What Happens in Vegas     Comedy      28        72      35   \n",
       "537                  What's Your Number     Comedy      24        50      20   \n",
       "538                     Whatever Works      Comedy      50        63      15   \n",
       "539                        When in Rome     Comedy      15        44       0   \n",
       "540          Where the Wild Things Are   Adventure      73        59     100   \n",
       "541                            Whip It       Drama      84        73      15   \n",
       "542                           Whiteout      Action       7        28      35   \n",
       "543          Why Did I Get Married Too?     Comedy      27        67      20   \n",
       "544                           Wild Hogs     Comedy      14        72      90   \n",
       "545                       Winter's Bone      Drama      94        73       2   \n",
       "546           X-Men Origins: Wolverine      Action      37        72     150   \n",
       "547                  X-Men: First Class     Action      87        88     160   \n",
       "548                           Year One   Adventure      14        31      60   \n",
       "549                             Yes Man     Comedy      43        72      70   \n",
       "550                           Yogi Bear     Comedy      14        36      80   \n",
       "551                           You Again     Comedy      18        45      20   \n",
       "552       You Don't Mess with the Zohan     Comedy      36        50      80   \n",
       "553  You Will Meet a Tall Dark Stranger     Comedy      43        35      22   \n",
       "554                       Your Highness     Comedy      26        36      50   \n",
       "555                     Youth in Revolt     Comedy      68        52      18   \n",
       "556                              Zodiac   Thriller      89        73      65   \n",
       "557                         Zombieland      Action      90        87      24   \n",
       "558                           Zookeeper     Comedy      14        42      80   \n",
       "\n",
       "     ReleaseYear  \n",
       "0           2009  \n",
       "1           2008  \n",
       "2           2009  \n",
       "3           2010  \n",
       "4           2009  \n",
       "5           2009  \n",
       "6           2008  \n",
       "7           2007  \n",
       "8           2011  \n",
       "9           2011  \n",
       "10          2007  \n",
       "11          2011  \n",
       "12          2010  \n",
       "13          2009  \n",
       "14          2011  \n",
       "15          2011  \n",
       "16          2007  \n",
       "17          2009  \n",
       "18          2011  \n",
       "19          2010  \n",
       "20          2007  \n",
       "21          2009  \n",
       "22          2009  \n",
       "23          2010  \n",
       "24          2009  \n",
       "25          2007  \n",
       "26          2009  \n",
       "27          2011  \n",
       "28          2011  \n",
       "29          2008  \n",
       "..           ...  \n",
       "529         2011  \n",
       "530         2011  \n",
       "531         2009  \n",
       "532         2011  \n",
       "533         2011  \n",
       "534         2007  \n",
       "535         2008  \n",
       "536         2008  \n",
       "537         2011  \n",
       "538         2009  \n",
       "539         2010  \n",
       "540         2009  \n",
       "541         2009  \n",
       "542         2009  \n",
       "543         2010  \n",
       "544         2007  \n",
       "545         2010  \n",
       "546         2009  \n",
       "547         2011  \n",
       "548         2009  \n",
       "549         2008  \n",
       "550         2010  \n",
       "551         2010  \n",
       "552         2008  \n",
       "553         2010  \n",
       "554         2011  \n",
       "555         2009  \n",
       "556         2007  \n",
       "557         2009  \n",
       "558         2011  \n",
       "\n",
       "[559 rows x 6 columns]"
      ]
     },
     "execution_count": 9,
     "metadata": {},
     "output_type": "execute_result"
    }
   ],
   "source": [
    "movies"
   ]
  },
  {
   "cell_type": "code",
   "execution_count": 10,
   "metadata": {
    "collapsed": false
   },
   "outputs": [
    {
     "data": {
      "text/html": [
       "<div>\n",
       "<table border=\"1\" class=\"dataframe\">\n",
       "  <thead>\n",
       "    <tr style=\"text-align: right;\">\n",
       "      <th></th>\n",
       "      <th>Film</th>\n",
       "      <th>Genre</th>\n",
       "      <th>Critic</th>\n",
       "      <th>Audience</th>\n",
       "      <th>Budget</th>\n",
       "      <th>ReleaseYear</th>\n",
       "    </tr>\n",
       "  </thead>\n",
       "  <tbody>\n",
       "    <tr>\n",
       "      <th>0</th>\n",
       "      <td>(500) Days of Summer</td>\n",
       "      <td>Comedy</td>\n",
       "      <td>87</td>\n",
       "      <td>81</td>\n",
       "      <td>8</td>\n",
       "      <td>2009</td>\n",
       "    </tr>\n",
       "    <tr>\n",
       "      <th>1</th>\n",
       "      <td>10,000 B.C.</td>\n",
       "      <td>Adventure</td>\n",
       "      <td>9</td>\n",
       "      <td>44</td>\n",
       "      <td>105</td>\n",
       "      <td>2008</td>\n",
       "    </tr>\n",
       "    <tr>\n",
       "      <th>2</th>\n",
       "      <td>12 Rounds</td>\n",
       "      <td>Action</td>\n",
       "      <td>30</td>\n",
       "      <td>52</td>\n",
       "      <td>20</td>\n",
       "      <td>2009</td>\n",
       "    </tr>\n",
       "    <tr>\n",
       "      <th>3</th>\n",
       "      <td>127 Hours</td>\n",
       "      <td>Adventure</td>\n",
       "      <td>93</td>\n",
       "      <td>84</td>\n",
       "      <td>18</td>\n",
       "      <td>2010</td>\n",
       "    </tr>\n",
       "    <tr>\n",
       "      <th>4</th>\n",
       "      <td>17 Again</td>\n",
       "      <td>Comedy</td>\n",
       "      <td>55</td>\n",
       "      <td>70</td>\n",
       "      <td>20</td>\n",
       "      <td>2009</td>\n",
       "    </tr>\n",
       "  </tbody>\n",
       "</table>\n",
       "</div>"
      ],
      "text/plain": [
       "                    Film      Genre  Critic  Audience  Budget  ReleaseYear\n",
       "0  (500) Days of Summer      Comedy      87        81       8         2009\n",
       "1            10,000 B.C.  Adventure       9        44     105         2008\n",
       "2             12 Rounds      Action      30        52      20         2009\n",
       "3              127 Hours  Adventure      93        84      18         2010\n",
       "4              17 Again      Comedy      55        70      20         2009"
      ]
     },
     "execution_count": 10,
     "metadata": {},
     "output_type": "execute_result"
    }
   ],
   "source": [
    "movies.head()"
   ]
  },
  {
   "cell_type": "code",
   "execution_count": 11,
   "metadata": {
    "collapsed": false
   },
   "outputs": [
    {
     "name": "stdout",
     "output_type": "stream",
     "text": [
      "<class 'pandas.core.frame.DataFrame'>\n",
      "RangeIndex: 559 entries, 0 to 558\n",
      "Data columns (total 6 columns):\n",
      "Film           559 non-null object\n",
      "Genre          559 non-null object\n",
      "Critic         559 non-null int64\n",
      "Audience       559 non-null int64\n",
      "Budget         559 non-null int64\n",
      "ReleaseYear    559 non-null int64\n",
      "dtypes: int64(4), object(2)\n",
      "memory usage: 21.9+ KB\n"
     ]
    }
   ],
   "source": [
    "movies.info()"
   ]
  },
  {
   "cell_type": "code",
   "execution_count": 12,
   "metadata": {
    "collapsed": false
   },
   "outputs": [
    {
     "data": {
      "text/html": [
       "<div>\n",
       "<table border=\"1\" class=\"dataframe\">\n",
       "  <thead>\n",
       "    <tr style=\"text-align: right;\">\n",
       "      <th></th>\n",
       "      <th>Critic</th>\n",
       "      <th>Audience</th>\n",
       "      <th>Budget</th>\n",
       "      <th>ReleaseYear</th>\n",
       "    </tr>\n",
       "  </thead>\n",
       "  <tbody>\n",
       "    <tr>\n",
       "      <th>count</th>\n",
       "      <td>559.000000</td>\n",
       "      <td>559.000000</td>\n",
       "      <td>559.000000</td>\n",
       "      <td>559.000000</td>\n",
       "    </tr>\n",
       "    <tr>\n",
       "      <th>mean</th>\n",
       "      <td>47.309481</td>\n",
       "      <td>58.744186</td>\n",
       "      <td>50.236136</td>\n",
       "      <td>2009.152057</td>\n",
       "    </tr>\n",
       "    <tr>\n",
       "      <th>std</th>\n",
       "      <td>26.413091</td>\n",
       "      <td>16.826887</td>\n",
       "      <td>48.731817</td>\n",
       "      <td>1.362632</td>\n",
       "    </tr>\n",
       "    <tr>\n",
       "      <th>min</th>\n",
       "      <td>0.000000</td>\n",
       "      <td>0.000000</td>\n",
       "      <td>0.000000</td>\n",
       "      <td>2007.000000</td>\n",
       "    </tr>\n",
       "    <tr>\n",
       "      <th>25%</th>\n",
       "      <td>25.000000</td>\n",
       "      <td>47.000000</td>\n",
       "      <td>20.000000</td>\n",
       "      <td>2008.000000</td>\n",
       "    </tr>\n",
       "    <tr>\n",
       "      <th>50%</th>\n",
       "      <td>46.000000</td>\n",
       "      <td>58.000000</td>\n",
       "      <td>35.000000</td>\n",
       "      <td>2009.000000</td>\n",
       "    </tr>\n",
       "    <tr>\n",
       "      <th>75%</th>\n",
       "      <td>70.000000</td>\n",
       "      <td>72.000000</td>\n",
       "      <td>65.000000</td>\n",
       "      <td>2010.000000</td>\n",
       "    </tr>\n",
       "    <tr>\n",
       "      <th>max</th>\n",
       "      <td>97.000000</td>\n",
       "      <td>96.000000</td>\n",
       "      <td>300.000000</td>\n",
       "      <td>2011.000000</td>\n",
       "    </tr>\n",
       "  </tbody>\n",
       "</table>\n",
       "</div>"
      ],
      "text/plain": [
       "           Critic    Audience      Budget  ReleaseYear\n",
       "count  559.000000  559.000000  559.000000   559.000000\n",
       "mean    47.309481   58.744186   50.236136  2009.152057\n",
       "std     26.413091   16.826887   48.731817     1.362632\n",
       "min      0.000000    0.000000    0.000000  2007.000000\n",
       "25%     25.000000   47.000000   20.000000  2008.000000\n",
       "50%     46.000000   58.000000   35.000000  2009.000000\n",
       "75%     70.000000   72.000000   65.000000  2010.000000\n",
       "max     97.000000   96.000000  300.000000  2011.000000"
      ]
     },
     "execution_count": 12,
     "metadata": {},
     "output_type": "execute_result"
    }
   ],
   "source": [
    "movies.describe()"
   ]
  },
  {
   "cell_type": "code",
   "execution_count": 14,
   "metadata": {
    "collapsed": false
   },
   "outputs": [
    {
     "data": {
      "text/plain": [
       "0                   (500) Days of Summer \n",
       "1                             10,000 B.C.\n",
       "2                              12 Rounds \n",
       "3                               127 Hours\n",
       "4                               17 Again \n",
       "5                                    2012\n",
       "6                              27 Dresses\n",
       "7                        30 Days of Night\n",
       "8                      30 Minutes or Less\n",
       "9                                   50/50\n",
       "10                             88 Minutes\n",
       "11                     A Dangerous Method\n",
       "12              A Nightmare on Elm Street\n",
       "13                         A Serious Man \n",
       "14      A Very Harold and Kumar Christmas\n",
       "15                              Abduction\n",
       "16                    Across the Universe\n",
       "17                         Adventureland \n",
       "18                           Albert Nobbs\n",
       "19                    Alice in Wonderland\n",
       "20          Alien vs. Predator -- Requiem\n",
       "21                   Aliens in the Attic \n",
       "22                       All About Steve \n",
       "23                        All Good Things\n",
       "24                                Amelia \n",
       "25                      American Gangster\n",
       "26                           An Education\n",
       "27                              Anonymous\n",
       "28                              Apollo 18\n",
       "29                              Appaloosa\n",
       "                      ...                \n",
       "529                             War Horse\n",
       "530                               Warrior\n",
       "531                             Watchmen \n",
       "532                   Water For Elephants\n",
       "533                       We Bought a Zoo\n",
       "534                      We Own the Night\n",
       "535          Welcome Home, Roscoe Jenkins\n",
       "536                 What Happens in Vegas\n",
       "537                    What's Your Number\n",
       "538                       Whatever Works \n",
       "539                          When in Rome\n",
       "540            Where the Wild Things Are \n",
       "541                              Whip It \n",
       "542                             Whiteout \n",
       "543            Why Did I Get Married Too?\n",
       "544                             Wild Hogs\n",
       "545                         Winter's Bone\n",
       "546             X-Men Origins: Wolverine \n",
       "547                    X-Men: First Class\n",
       "548                             Year One \n",
       "549                               Yes Man\n",
       "550                             Yogi Bear\n",
       "551                             You Again\n",
       "552         You Don't Mess with the Zohan\n",
       "553    You Will Meet a Tall Dark Stranger\n",
       "554                         Your Highness\n",
       "555                       Youth in Revolt\n",
       "556                                Zodiac\n",
       "557                           Zombieland \n",
       "558                             Zookeeper\n",
       "Name: Film, dtype: object"
      ]
     },
     "execution_count": 14,
     "metadata": {},
     "output_type": "execute_result"
    }
   ],
   "source": [
    "movies.Film"
   ]
  },
  {
   "cell_type": "code",
   "execution_count": 16,
   "metadata": {
    "collapsed": false
   },
   "outputs": [],
   "source": [
    "movies.Film = movies.Film.astype('category')"
   ]
  },
  {
   "cell_type": "code",
   "execution_count": 17,
   "metadata": {
    "collapsed": false
   },
   "outputs": [
    {
     "name": "stdout",
     "output_type": "stream",
     "text": [
      "<class 'pandas.core.frame.DataFrame'>\n",
      "RangeIndex: 559 entries, 0 to 558\n",
      "Data columns (total 6 columns):\n",
      "Film           559 non-null category\n",
      "Genre          559 non-null object\n",
      "Critic         559 non-null int64\n",
      "Audience       559 non-null int64\n",
      "Budget         559 non-null int64\n",
      "ReleaseYear    559 non-null int64\n",
      "dtypes: category(1), int64(4), object(1)\n",
      "memory usage: 23.0+ KB\n"
     ]
    }
   ],
   "source": [
    "movies.info()"
   ]
  },
  {
   "cell_type": "code",
   "execution_count": 18,
   "metadata": {
    "collapsed": true
   },
   "outputs": [],
   "source": [
    "movies.Genre = movies.Genre.astype('category')\n",
    "movies.ReleaseYear = movies.ReleaseYear.astype('category')"
   ]
  },
  {
   "cell_type": "code",
   "execution_count": 19,
   "metadata": {
    "collapsed": false
   },
   "outputs": [
    {
     "name": "stdout",
     "output_type": "stream",
     "text": [
      "<class 'pandas.core.frame.DataFrame'>\n",
      "RangeIndex: 559 entries, 0 to 558\n",
      "Data columns (total 6 columns):\n",
      "Film           559 non-null category\n",
      "Genre          559 non-null category\n",
      "Critic         559 non-null int64\n",
      "Audience       559 non-null int64\n",
      "Budget         559 non-null int64\n",
      "ReleaseYear    559 non-null category\n",
      "dtypes: category(3), int64(3)\n",
      "memory usage: 17.6 KB\n"
     ]
    }
   ],
   "source": [
    "movies.info()"
   ]
  },
  {
   "cell_type": "code",
   "execution_count": 21,
   "metadata": {
    "collapsed": true
   },
   "outputs": [],
   "source": [
    "from matplotlib import pyplot as plt\n",
    "import seaborn as sns\n",
    "%matplotlib inline\n",
    "import warnings\n",
    "warnings.filterwarnings('ignore')"
   ]
  },
  {
   "cell_type": "code",
   "execution_count": 24,
   "metadata": {
    "collapsed": false
   },
   "outputs": [
    {
     "data": {
      "image/png": "[encoded data removed]",
      "text/plain": [
       "<matplotlib.figure.Figure at 0xaccfff0>"
      ]
     },
     "metadata": {},
     "output_type": "display_data"
    }
   ],
   "source": [
    "j = sns.jointplot(data=movies,x='Critic',y= 'Audience',kind='hex')"
   ]
  },
  {
   "cell_type": "code",
   "execution_count": 26,
   "metadata": {
    "collapsed": false
   },
   "outputs": [
    {
     "data": {
      "image/png": "[encoded data removed]",
      "text/plain": [
       "<matplotlib.figure.Figure at 0xad17450>"
      ]
     },
     "metadata": {},
     "output_type": "display_data"
    }
   ],
   "source": [
    "sns.set_style(\"white\")\n",
    "n1 = plt.hist(movies.Audience,bins=15)"
   ]
  },
  {
   "cell_type": "code",
   "execution_count": 27,
   "metadata": {
    "collapsed": false
   },
   "outputs": [
    {
     "data": {
      "image/png": "[encoded data removed]",
      "text/plain": [
       "<matplotlib.figure.Figure at 0xacc9430>"
      ]
     },
     "metadata": {},
     "output_type": "display_data"
    }
   ],
   "source": [
    "n2 = plt.hist(movies.Critic,bins=15)"
   ]
  },
  {
   "cell_type": "code",
   "execution_count": 29,
   "metadata": {
    "collapsed": false
   },
   "outputs": [
    {
     "data": {
      "image/png": "[encoded data removed]",
      "text/plain": [
       "<matplotlib.figure.Figure at 0xbd8d390>"
      ]
     },
     "metadata": {},
     "output_type": "display_data"
    }
   ],
   "source": [
    "plt.hist(movies[movies.Genre=='Drama'].Budget)\n",
    "plt.hist(movies[movies.Genre=='Action'].Budget)\n",
    "plt.hist(movies[movies.Genre=='Thriller'].Budget)\n",
    "plt.show()"
   ]
  },
  {
   "cell_type": "code",
   "execution_count": 31,
   "metadata": {
    "collapsed": false
   },
   "outputs": [
    {
     "data": {
      "image/png": "[encoded data removed]",
      "text/plain": [
       "<matplotlib.figure.Figure at 0xbdfd8d0>"
      ]
     },
     "metadata": {},
     "output_type": "display_data"
    }
   ],
   "source": [
    "plt.hist([movies[movies.Genre=='Drama'].Budget,movies[movies.Genre=='Action'].Budget],\n",
    "         bins=15,stacked=True)\n",
    "plt.show()"
   ]
  },
  {
   "cell_type": "code",
   "execution_count": 32,
   "metadata": {
    "collapsed": false
   },
   "outputs": [
    {
     "name": "stdout",
     "output_type": "stream",
     "text": [
      "Action\n",
      "Adventure\n",
      "Comedy\n",
      "Drama\n",
      "Horror\n",
      "Romance\n",
      "Thriller\n"
     ]
    }
   ],
   "source": [
    "for gen in movies.Genre.cat.categories:\n",
    "    print(gen)"
   ]
  },
  {
   "cell_type": "code",
   "execution_count": 46,
   "metadata": {
    "collapsed": false
   },
   "outputs": [
    {
     "ename": "NameError",
     "evalue": "name 'mylabel' is not defined",
     "output_type": "error",
     "traceback": [
      "\u001b[0;31m---------------------------------------------------------------------------\u001b[0m",
      "\u001b[0;31mNameError\u001b[0m                                 Traceback (most recent call last)",
      "\u001b[0;32m<ipython-input-46-9294ad1a96be>\u001b[0m in \u001b[0;36m<module>\u001b[0;34m()\u001b[0m\n\u001b[1;32m      2\u001b[0m \u001b[1;32mfor\u001b[0m \u001b[0mgen\u001b[0m \u001b[1;32min\u001b[0m \u001b[0mmovies\u001b[0m\u001b[1;33m.\u001b[0m\u001b[0mGenre\u001b[0m\u001b[1;33m.\u001b[0m\u001b[0mcat\u001b[0m\u001b[1;33m.\u001b[0m\u001b[0mcategories\u001b[0m\u001b[1;33m:\u001b[0m\u001b[1;33m\u001b[0m\u001b[0m\n\u001b[1;32m      3\u001b[0m     \u001b[0mlist1\u001b[0m\u001b[1;33m.\u001b[0m\u001b[0mappend\u001b[0m\u001b[1;33m(\u001b[0m\u001b[0mmovies\u001b[0m\u001b[1;33m[\u001b[0m\u001b[0mmovies\u001b[0m\u001b[1;33m.\u001b[0m\u001b[0mGenre\u001b[0m\u001b[1;33m==\u001b[0m\u001b[0mgen\u001b[0m\u001b[1;33m]\u001b[0m\u001b[1;33m.\u001b[0m\u001b[0mBudget\u001b[0m\u001b[1;33m)\u001b[0m\u001b[1;33m\u001b[0m\u001b[0m\n\u001b[0;32m----> 4\u001b[0;31m     \u001b[0mmylabel\u001b[0m\u001b[1;33m.\u001b[0m\u001b[0mappend\u001b[0m\u001b[1;33m(\u001b[0m\u001b[0mgen\u001b[0m\u001b[1;33m)\u001b[0m\u001b[1;33m\u001b[0m\u001b[0m\n\u001b[0m\u001b[1;32m      5\u001b[0m \u001b[0mh\u001b[0m \u001b[1;33m=\u001b[0m \u001b[0mplt\u001b[0m\u001b[1;33m.\u001b[0m\u001b[0mhist\u001b[0m\u001b[1;33m(\u001b[0m\u001b[0mlist1\u001b[0m\u001b[1;33m,\u001b[0m\u001b[0mbins\u001b[0m\u001b[1;33m=\u001b[0m\u001b[1;36m15\u001b[0m\u001b[1;33m,\u001b[0m\u001b[0mstacked\u001b[0m\u001b[1;33m=\u001b[0m\u001b[1;32mTrue\u001b[0m\u001b[1;33m,\u001b[0m\u001b[0mrwidth\u001b[0m\u001b[1;33m=\u001b[0m\u001b[1;36m1\u001b[0m\u001b[1;33m,\u001b[0m\u001b[0mlabel\u001b[0m\u001b[1;33m=\u001b[0m\u001b[0mmylabel\u001b[0m\u001b[1;33m)\u001b[0m\u001b[1;33m\u001b[0m\u001b[0m\n\u001b[1;32m      6\u001b[0m \u001b[0mplt\u001b[0m\u001b[1;33m.\u001b[0m\u001b[0mlegend\u001b[0m\u001b[1;33m(\u001b[0m\u001b[1;33m)\u001b[0m\u001b[1;33m\u001b[0m\u001b[0m\n",
      "\u001b[0;31mNameError\u001b[0m: name 'mylabel' is not defined"
     ]
    }
   ],
   "source": [
    "list1 = list()\n",
    "for gen in movies.Genre.cat.categories:\n",
    "    list1.append(movies[movies.Genre==gen].Budget)\n",
    "    mylabel.append(gen)\n",
    "h = plt.hist(list1,bins=15,stacked=True,rwidth=1,label=mylabel)\n",
    "plt.legend()\n",
    "plt.show()"
   ]
  },
  {
   "cell_type": "code",
   "execution_count": null,
   "metadata": {
    "collapsed": true
   },
   "outputs": [],
   "source": []
  },
  {
   "cell_type": "code",
   "execution_count": null,
   "metadata": {
    "collapsed": true
   },
   "outputs": [],
   "source": []
  }
 ],
 "metadata": {
  "kernelspec": {
   "display_name": "Python [conda root]",
   "language": "python",
   "name": "conda-root-py"
  },
  "language_info": {
   "codemirror_mode": {
    "name": "ipython",
    "version": 3
   },
   "file_extension": ".py",
   "mimetype": "text/x-python",
   "name": "python",
   "nbconvert_exporter": "python",
   "pygments_lexer": "ipython3",
   "version": "3.5.2"
  }
 },
 "nbformat": 4,
 "nbformat_minor": 1
}
